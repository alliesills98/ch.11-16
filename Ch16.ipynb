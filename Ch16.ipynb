{
 "cells": [
  {
   "cell_type": "code",
   "execution_count": 6,
   "metadata": {},
   "outputs": [],
   "source": [
    "import csv\n",
    "books = [\n",
    "    ['Author', 'Book'],\n",
    "    ['J R R Tolkien', 'The Hobbit'], ['Lynne Truss','\"Eats, Shoots & Leaves\"']\n",
    "]\n",
    "with open('books','wt') as fout:\n",
    "    csvout = csv.writer(fout)\n",
    "    csvout.writerows(books)"
   ]
  },
  {
   "cell_type": "code",
   "execution_count": 9,
   "metadata": {},
   "outputs": [
    {
     "name": "stdout",
     "output_type": "stream",
     "text": [
      "[{'Author': 'J R R Tolkien', 'Book': 'The Hobbit'}, {'Author': 'Lynne Truss', 'Book': '\"Eats, Shoots & Leaves\"'}]\n"
     ]
    }
   ],
   "source": [
    "import csv\n",
    "with open('books','rt') as fin:\n",
    "    cin = csv.DictReader(fin)\n",
    "    books = [row for row in cin]\n",
    "print(books)"
   ]
  },
  {
   "attachments": {},
   "cell_type": "markdown",
   "metadata": {},
   "source": [
    "DictReader was able to handle the quotes and commas in the second book title"
   ]
  }
 ],
 "metadata": {
  "language_info": {
   "codemirror_mode": {
    "name": "ipython",
    "version": 3
   },
   "file_extension": ".py",
   "mimetype": "text/x-python",
   "name": "python",
   "nbconvert_exporter": "python",
   "pygments_lexer": "ipython3",
   "version": 3
  },
  "orig_nbformat": 4
 },
 "nbformat": 4,
 "nbformat_minor": 2
}
